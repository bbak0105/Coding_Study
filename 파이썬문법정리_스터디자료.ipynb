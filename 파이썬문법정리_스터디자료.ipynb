{
  "nbformat": 4,
  "nbformat_minor": 0,
  "metadata": {
    "colab": {
      "provenance": []
    },
    "kernelspec": {
      "name": "python3",
      "display_name": "Python 3"
    },
    "language_info": {
      "name": "python"
    }
  },
  "cells": [
    {
      "cell_type": "markdown",
      "source": [
        "# 📌 파이썬은 모두 객체로 취급합니다"
      ],
      "metadata": {
        "id": "ix9yg3q6KizB"
      }
    },
    {
      "cell_type": "markdown",
      "source": [
        "> <b> 📢 PROMPT. </b>\n",
        "\n",
        "두 개의 값을 넣으면 그 두개의 값으로 더한 후에 리턴해주는 파이썬 코드를 짜줘."
      ],
      "metadata": {
        "id": "NQQDRAIgZksP"
      }
    },
    {
      "cell_type": "code",
      "execution_count": null,
      "metadata": {
        "colab": {
          "base_uri": "https://localhost:8080/"
        },
        "id": "LeNwKYuE0u4g",
        "outputId": "5372e0e1-edac-4aa4-ebbd-a94a76f625ce"
      },
      "outputs": [
        {
          "output_type": "stream",
          "name": "stdout",
          "text": [
            "The sum of 10 and 20 is: 30\n"
          ]
        }
      ],
      "source": [
        "def add_two_numbers(a, b):\n",
        "    result = a + b\n",
        "    return result\n",
        "\n",
        "# 예제 사용\n",
        "num1 = 10\n",
        "num2 = 20\n",
        "sum_result = add_two_numbers(num1, num2)\n",
        "\n",
        "print(f\"The sum of {num1} and {num2} is: {sum_result}\")"
      ]
    },
    {
      "cell_type": "markdown",
      "source": [
        "\n",
        "\n",
        "---\n",
        "\n"
      ],
      "metadata": {
        "id": "vqHP-1RtaFfp"
      }
    },
    {
      "cell_type": "markdown",
      "source": [
        "> <b> 📢 PROMPT. </b>\n",
        "\n",
        "파이썬에서 기본 자료형이 어떤게있어?"
      ],
      "metadata": {
        "id": "89fG8K_MZ__j"
      }
    },
    {
      "cell_type": "code",
      "source": [
        "x = 42\n",
        "type(x) # type 함수로 확인해볼 수 있습니다."
      ],
      "metadata": {
        "colab": {
          "base_uri": "https://localhost:8080/"
        },
        "id": "9mQKjQCi__uc",
        "outputId": "66232507-c0f1-4dec-ade7-df1b7f107d9d"
      },
      "execution_count": null,
      "outputs": [
        {
          "output_type": "execute_result",
          "data": {
            "text/plain": [
              "int"
            ]
          },
          "metadata": {},
          "execution_count": 2
        }
      ]
    },
    {
      "cell_type": "code",
      "source": [
        "pi = 3.14\n",
        "type(pi)"
      ],
      "metadata": {
        "colab": {
          "base_uri": "https://localhost:8080/"
        },
        "id": "25uzzkU3AFL1",
        "outputId": "1c25daf7-2508-49af-d090-aeee47c3f790"
      },
      "execution_count": null,
      "outputs": [
        {
          "output_type": "execute_result",
          "data": {
            "text/plain": [
              "float"
            ]
          },
          "metadata": {},
          "execution_count": 3
        }
      ]
    },
    {
      "cell_type": "code",
      "source": [
        "name = \"Alice\"\n",
        "type(name)"
      ],
      "metadata": {
        "colab": {
          "base_uri": "https://localhost:8080/"
        },
        "id": "aFH4v_ttAHMU",
        "outputId": "706a5b25-208b-434b-c391-55643bd19b80"
      },
      "execution_count": null,
      "outputs": [
        {
          "output_type": "execute_result",
          "data": {
            "text/plain": [
              "str"
            ]
          },
          "metadata": {},
          "execution_count": 4
        }
      ]
    },
    {
      "cell_type": "code",
      "source": [
        "is_valid = True\n",
        "type(is_valid)"
      ],
      "metadata": {
        "colab": {
          "base_uri": "https://localhost:8080/"
        },
        "id": "-N3sf0bsAIwv",
        "outputId": "2d0e89f7-8ecc-4f13-9038-2ba9f7fc25c8"
      },
      "execution_count": null,
      "outputs": [
        {
          "output_type": "execute_result",
          "data": {
            "text/plain": [
              "bool"
            ]
          },
          "metadata": {},
          "execution_count": 5
        }
      ]
    },
    {
      "cell_type": "code",
      "source": [
        "numbers = [1, 2, 3, 4]\n",
        "type(numbers)"
      ],
      "metadata": {
        "colab": {
          "base_uri": "https://localhost:8080/"
        },
        "id": "GBexaej9AKTd",
        "outputId": "5688c0e1-ad1d-4904-f840-2c0b359fccbd"
      },
      "execution_count": null,
      "outputs": [
        {
          "output_type": "execute_result",
          "data": {
            "text/plain": [
              "list"
            ]
          },
          "metadata": {},
          "execution_count": 6
        }
      ]
    },
    {
      "cell_type": "code",
      "source": [
        "coordinates = (3, 4)\n",
        "type(coordinates)"
      ],
      "metadata": {
        "colab": {
          "base_uri": "https://localhost:8080/"
        },
        "id": "jv2ip5K-AQe_",
        "outputId": "b94c0407-422d-44c9-f8a7-70989ddd0d52"
      },
      "execution_count": null,
      "outputs": [
        {
          "output_type": "execute_result",
          "data": {
            "text/plain": [
              "tuple"
            ]
          },
          "metadata": {},
          "execution_count": 7
        }
      ]
    },
    {
      "cell_type": "code",
      "source": [
        "unique_numbers = {1, 2, 3, 4}\n",
        "type(unique_numbers)"
      ],
      "metadata": {
        "colab": {
          "base_uri": "https://localhost:8080/"
        },
        "id": "Gc3MRU9-AR9x",
        "outputId": "950abd0d-a294-4e44-ab20-7b622e8003f8"
      },
      "execution_count": null,
      "outputs": [
        {
          "output_type": "execute_result",
          "data": {
            "text/plain": [
              "set"
            ]
          },
          "metadata": {},
          "execution_count": 8
        }
      ]
    },
    {
      "cell_type": "code",
      "source": [
        "person = {'name': 'John', 'age': 30, 'city': 'New York'}\n",
        "type(person)"
      ],
      "metadata": {
        "colab": {
          "base_uri": "https://localhost:8080/"
        },
        "id": "fkEqrTG1ASX2",
        "outputId": "67a8d619-8853-4137-a899-553a2e57d993"
      },
      "execution_count": null,
      "outputs": [
        {
          "output_type": "execute_result",
          "data": {
            "text/plain": [
              "dict"
            ]
          },
          "metadata": {},
          "execution_count": 9
        }
      ]
    },
    {
      "cell_type": "markdown",
      "source": [
        "\n",
        "\n",
        "---\n",
        "\n"
      ],
      "metadata": {
        "id": "r61CwehMaK7j"
      }
    },
    {
      "cell_type": "markdown",
      "source": [
        "> <b> 📢 PROMPT. </b>\n",
        "\n",
        "파이썬에서 객체를 만들어줘. 바리스타라는 객체야. <br/>\n",
        "속성으로는 이름(name)은 '히히', 연봉(salary)은 200, 만든커피의수(coffeeNum)은 200잔을 가지고 있어. <br/> 메소드로는 커피를 만드는 행위(makeCoffee)를 갖고 있어. <br/>\n",
        "클래스로 만들지 말고 객체 그대로 만들어줘."
      ],
      "metadata": {
        "id": "Fsa-0h8uZLlZ"
      }
    },
    {
      "cell_type": "code",
      "source": [
        "# 바리스타 객체\n",
        "barista = {\n",
        "    'name': '히히',\n",
        "    'salary': 200,\n",
        "    'coffee_num': 200,\n",
        "    'make_coffee': lambda self: self['coffee_num'] + 1\n",
        "}\n",
        "\n",
        "# 객체의 속성에 접근\n",
        "print(f\"바리스타 이름: {barista['name']}\")\n",
        "print(f\"바리스타 연봉: {barista['salary']}\")\n",
        "print(f\"만든 커피의 수: {barista['coffee_num']}\")\n",
        "\n",
        "# make_coffee 메소드 호출\n",
        "barista['coffee_num'] = barista['make_coffee'](barista)\n",
        "print(f\"만든 커피의 수(메소드 호출 후): {barista['coffee_num']}\")"
      ],
      "metadata": {
        "colab": {
          "base_uri": "https://localhost:8080/"
        },
        "id": "HEsPypuLXiIN",
        "outputId": "a0d95624-5d12-49e6-9507-0e317f89d319"
      },
      "execution_count": null,
      "outputs": [
        {
          "output_type": "stream",
          "name": "stdout",
          "text": [
            "바리스타 이름: 히히\n",
            "바리스타 연봉: 200\n",
            "만든 커피의 수: 200\n",
            "만든 커피의 수(메소드 호출 후): 201\n"
          ]
        }
      ]
    },
    {
      "cell_type": "markdown",
      "source": [
        "\n",
        "\n",
        "---\n",
        "\n"
      ],
      "metadata": {
        "id": "6hKzOAAyaIwN"
      }
    },
    {
      "cell_type": "code",
      "source": [
        "num_1 = 1\n",
        "num_2 = 2\n",
        "\n",
        "print(f\"num_1 의 id: {id(num_1)}\")\n",
        "print(f\"num_2 의 id: {id(num_2)}\")\n",
        "print(f\"num_1와 num_2는 같은 메모리 주소 값을 참조하니? : {num_1 is num_2}\")"
      ],
      "metadata": {
        "colab": {
          "base_uri": "https://localhost:8080/"
        },
        "id": "O-JmCn57Rsbg",
        "outputId": "cd5cdcb4-e2f5-4ba7-a2cd-849d14c6f327"
      },
      "execution_count": null,
      "outputs": [
        {
          "output_type": "stream",
          "name": "stdout",
          "text": [
            "num_1 의 id: 135565905084656\n",
            "num_2 의 id: 135565905084688\n",
            "num_1와 num_2는 같은 메모리 주소 값을 참조하니? : False\n"
          ]
        }
      ]
    },
    {
      "cell_type": "code",
      "source": [
        "# 작은 정수 최적화 : -5 ~ 256 사이의 정수값들은 값이 같은 경우 같은 메모리 값을 참조한다.\n",
        "a = 1\n",
        "b = 5\n",
        "c = 6\n",
        "d = 1\n",
        "\n",
        "print(f\"a 의 id: {id(a)}\") # a와 d는 1로 동일하여 같은 메모리 주소 값을 가진다.\n",
        "print(f\"b 의 id: {id(b)}\")\n",
        "print(f\"c 의 id: {id(c)}\")\n",
        "print(f\"d 의 id: {id(d)}\") # a와 d는 1로 동일하여 같은 메모리 주소 값을 가진다.\n",
        "print(f\"a와 d는 같은 메모리 주소 값을 참조하니? : {a is d}\")"
      ],
      "metadata": {
        "colab": {
          "base_uri": "https://localhost:8080/"
        },
        "id": "Dey3W7oMAV8Q",
        "outputId": "a737bc9c-5ea2-44e5-e7c1-a13df40d7c75"
      },
      "execution_count": null,
      "outputs": [
        {
          "output_type": "stream",
          "name": "stdout",
          "text": [
            "a 의 id: 135565905084656\n",
            "b 의 id: 135565905084784\n",
            "c 의 id: 135565905084816\n",
            "d 의 id: 135565905084656\n",
            "a와 d는 같은 메모리 주소 값을 참조하니? : True\n"
          ]
        }
      ]
    },
    {
      "cell_type": "code",
      "source": [
        "# 작은 정수 최적화 범위가 아닐 경우는, 값이 같더라도 같은 메모리 값을 참조하지 않는다.\n",
        "e = 257\n",
        "f = 257\n",
        "\n",
        "print(f\"e 의 id: {id(e)}\")\n",
        "print(f\"f 의 id: {id(f)}\")\n",
        "print(f\"a와 d는 같은 메모리 주소 값을 참조하니? : {e is f}\")"
      ],
      "metadata": {
        "colab": {
          "base_uri": "https://localhost:8080/"
        },
        "id": "QaknVXSoDiuu",
        "outputId": "f3c63c3c-77ea-4c82-a397-1cdb8c84d58d"
      },
      "execution_count": null,
      "outputs": [
        {
          "output_type": "stream",
          "name": "stdout",
          "text": [
            "e 의 id: 135794065384752\n",
            "f 의 id: 135794065385008\n",
            "a와 d는 같은 메모리 주소 값을 참조하니? : False\n"
          ]
        }
      ]
    },
    {
      "cell_type": "markdown",
      "source": [
        "\n",
        "\n",
        "---\n",
        "\n"
      ],
      "metadata": {
        "id": "NRaSLqooAVuU"
      }
    },
    {
      "cell_type": "markdown",
      "source": [
        "# 📌 이뮤터블객체(Immutable) VS 뮤터블객체(Mutable)"
      ],
      "metadata": {
        "id": "OsWSzhkpJ00Z"
      }
    },
    {
      "cell_type": "markdown",
      "source": [
        "> <b> 📢 PROMPT. </b> <br/>\n",
        "\n",
        "이뮤터블 객체에 대해서 알려줘."
      ],
      "metadata": {
        "id": "2yhNFlEng70X"
      }
    },
    {
      "cell_type": "markdown",
      "source": [
        "1) 정수형: 정수형은 불변 객체로, 한 번 생성된 값을 변경할 수 없습니다. (변경할 값을 새로운 주소에 넣고 이를 참조해서는 가능)"
      ],
      "metadata": {
        "id": "ieN-h1dHhHn_"
      }
    },
    {
      "cell_type": "code",
      "source": [
        "x = 5\n",
        "print(f\"x의 메모리주소 값 {id(x)}\")\n",
        "x = x + 1  # 같은 변수 x에 담았지만, 메모리 주소 값이 바뀌고 새로운 주소 값으로 할당 됩니다.\n",
        "print(f\"x의 새로운메모 주소 값 {id(x)}\")\n",
        "y = 6\n",
        "print(f\"y의 메모리주소 값 {id(y)}\") # x와 y는 6으로 동일하고 -5 ~ 256사이에 있는 정수값이므로 같은 메모리 주소 값을 가진다."
      ],
      "metadata": {
        "colab": {
          "base_uri": "https://localhost:8080/"
        },
        "id": "mKPBWRToWRbJ",
        "outputId": "40c06071-9d86-481d-ac29-4db12e9ac3ef"
      },
      "execution_count": null,
      "outputs": [
        {
          "output_type": "stream",
          "name": "stdout",
          "text": [
            "x의 메모리주소 값 135795332972912\n",
            "x의 새로운메모 주소 값 135795332972944\n",
            "y의 메모리주소 값 135795332972944\n"
          ]
        }
      ]
    },
    {
      "cell_type": "markdown",
      "source": [
        "2) 부동소수점: 부동 소수점 값도 불변합니다. (변경할 값을 새로운 주소에 넣고 이를 참조해서는 가능)"
      ],
      "metadata": {
        "id": "ho-GoU3RiAel"
      }
    },
    {
      "cell_type": "code",
      "source": [
        "z = 3.14\n",
        "print(f\"z의 메모리주소 값 {id(z)}\")\n",
        "z = z + 1.0  # 같은 변수 y에 담았지만, 메모리 주소 값이 바뀌고 새로운 주소 값으로 할당 됩니다.\n",
        "print(f\"z의 새로운메모 주소 값 {id(z)}\")\n",
        "zz = 4.14\n",
        "print(f\"zz의 새로운메모 주소 값 {id(zz)}\") # 실수형은 값이 같아도 다른 메모리 주소 값을 가진다."
      ],
      "metadata": {
        "colab": {
          "base_uri": "https://localhost:8080/"
        },
        "id": "8NVZTArQiW9x",
        "outputId": "dc0e5a60-9027-411a-ed92-cbdde804af49"
      },
      "execution_count": null,
      "outputs": [
        {
          "output_type": "stream",
          "name": "stdout",
          "text": [
            "z의 메모리주소 값 135794065382288\n",
            "z의 새로운메모 주소 값 135794065383792\n",
            "zz의 새로운메모 주소 값 135794065384336\n"
          ]
        }
      ]
    },
    {
      "cell_type": "markdown",
      "source": [
        "3) 문자열: 문자열은 불변 객체로, 문자열의 일부를 변경하거나 새로운 문자를 추가하는 것이 불가능합니다.\n"
      ],
      "metadata": {
        "id": "G5xemdX7jFFl"
      }
    },
    {
      "cell_type": "code",
      "source": [
        "my_string = \"Hello\"\n",
        "my_string[0] = 'J'  # 이 줄은 에러를 발생시킵니다. 문자열은 이뮤터블합니다."
      ],
      "metadata": {
        "colab": {
          "base_uri": "https://localhost:8080/",
          "height": 198
        },
        "id": "vCg0ZHhsjl7d",
        "outputId": "bd25ed66-591f-4a05-b1fe-5e2c42a20fab"
      },
      "execution_count": null,
      "outputs": [
        {
          "output_type": "error",
          "ename": "TypeError",
          "evalue": "'str' object does not support item assignment",
          "traceback": [
            "\u001b[0;31m---------------------------------------------------------------------------\u001b[0m",
            "\u001b[0;31mTypeError\u001b[0m                                 Traceback (most recent call last)",
            "\u001b[0;32m<ipython-input-27-e0124fad7daa>\u001b[0m in \u001b[0;36m<cell line: 2>\u001b[0;34m()\u001b[0m\n\u001b[1;32m      1\u001b[0m \u001b[0mmy_string\u001b[0m \u001b[0;34m=\u001b[0m \u001b[0;34m\"Hello\"\u001b[0m\u001b[0;34m\u001b[0m\u001b[0;34m\u001b[0m\u001b[0m\n\u001b[0;32m----> 2\u001b[0;31m \u001b[0mmy_string\u001b[0m\u001b[0;34m[\u001b[0m\u001b[0;36m0\u001b[0m\u001b[0;34m]\u001b[0m \u001b[0;34m=\u001b[0m \u001b[0;34m'J'\u001b[0m  \u001b[0;31m# 이 줄은 에러를 발생시킵니다. 문자열은 이뮤터블합니다.\u001b[0m\u001b[0;34m\u001b[0m\u001b[0;34m\u001b[0m\u001b[0m\n\u001b[0m",
            "\u001b[0;31mTypeError\u001b[0m: 'str' object does not support item assignment"
          ]
        }
      ]
    },
    {
      "cell_type": "markdown",
      "source": [
        "4) 튜플: 튜플은 생성된 이후에 요소를 추가, 제거, 또는 변경할 수 없는 불변 객체입니다."
      ],
      "metadata": {
        "id": "i58g9VGhjlZq"
      }
    },
    {
      "cell_type": "code",
      "source": [
        "my_tuple = (1, 2, 3)\n",
        "my_tuple[0] = 10  # 이 줄은 에러를 발생시킵니다. 튜플은 이뮤터블합니다."
      ],
      "metadata": {
        "colab": {
          "base_uri": "https://localhost:8080/",
          "height": 198
        },
        "id": "Mwo5aRZqkGY0",
        "outputId": "107f068f-4a27-4ee4-bb2c-ecc46e5f5751"
      },
      "execution_count": null,
      "outputs": [
        {
          "output_type": "error",
          "ename": "TypeError",
          "evalue": "'tuple' object does not support item assignment",
          "traceback": [
            "\u001b[0;31m---------------------------------------------------------------------------\u001b[0m",
            "\u001b[0;31mTypeError\u001b[0m                                 Traceback (most recent call last)",
            "\u001b[0;32m<ipython-input-28-b6d075531593>\u001b[0m in \u001b[0;36m<cell line: 2>\u001b[0;34m()\u001b[0m\n\u001b[1;32m      1\u001b[0m \u001b[0mmy_tuple\u001b[0m \u001b[0;34m=\u001b[0m \u001b[0;34m(\u001b[0m\u001b[0;36m1\u001b[0m\u001b[0;34m,\u001b[0m \u001b[0;36m2\u001b[0m\u001b[0;34m,\u001b[0m \u001b[0;36m3\u001b[0m\u001b[0;34m)\u001b[0m\u001b[0;34m\u001b[0m\u001b[0;34m\u001b[0m\u001b[0m\n\u001b[0;32m----> 2\u001b[0;31m \u001b[0mmy_tuple\u001b[0m\u001b[0;34m[\u001b[0m\u001b[0;36m0\u001b[0m\u001b[0;34m]\u001b[0m \u001b[0;34m=\u001b[0m \u001b[0;36m10\u001b[0m  \u001b[0;31m# 이 줄은 에러를 발생시킵니다. 튜플은 이뮤터블합니다.\u001b[0m\u001b[0;34m\u001b[0m\u001b[0;34m\u001b[0m\u001b[0m\n\u001b[0m",
            "\u001b[0;31mTypeError\u001b[0m: 'tuple' object does not support item assignment"
          ]
        }
      ]
    },
    {
      "cell_type": "markdown",
      "source": [
        "5) 불리언: 불리언 값인 True와 False도 이뮤터블합니다. (변경할 값을 새로운 주소에 넣고 이를 참조해서는 가능)"
      ],
      "metadata": {
        "id": "8V_ggewYkITQ"
      }
    },
    {
      "cell_type": "code",
      "source": [
        "my_bool = True\n",
        "print(f\"my_bool의 메모리주소 값 {id(my_bool)}\")\n",
        "\n",
        "my_bool = False\n",
        "print(f\"my_bool의 새로운 메모리주소 값 {id(my_bool)}\")"
      ],
      "metadata": {
        "colab": {
          "base_uri": "https://localhost:8080/"
        },
        "id": "v4gVp3fBj1_d",
        "outputId": "f72eb0dd-7951-43b0-e04a-f565d0cdc4fe"
      },
      "execution_count": null,
      "outputs": [
        {
          "output_type": "stream",
          "name": "stdout",
          "text": [
            "my_bool의 메모리주소 값 96830132401184\n",
            "my_bool의 새로운 메모리주소 값 96830132401152\n"
          ]
        }
      ]
    },
    {
      "cell_type": "markdown",
      "source": [
        "\n",
        "\n",
        "---\n",
        "\n"
      ],
      "metadata": {
        "id": "O9rX82yI-G-g"
      }
    },
    {
      "cell_type": "markdown",
      "source": [
        "> 집합은 중복을 허용하지 않습니다. 3을 또 더했는데, 결과로는 3이 하나만 나오는 것을 볼 수 있습니다."
      ],
      "metadata": {
        "id": "U_XhlCGPKGFS"
      }
    },
    {
      "cell_type": "code",
      "source": [
        "my_set = {1, 2, 3}\n",
        "my_set.add(4)\n",
        "my_set.add(3)\n",
        "print(my_set)"
      ],
      "metadata": {
        "colab": {
          "base_uri": "https://localhost:8080/"
        },
        "id": "likyfDe3-J_r",
        "outputId": "5c807b81-0fa8-48be-85cd-2846c7c21616"
      },
      "execution_count": null,
      "outputs": [
        {
          "output_type": "stream",
          "name": "stdout",
          "text": [
            "{1, 2, 3, 4}\n"
          ]
        }
      ]
    },
    {
      "cell_type": "markdown",
      "source": [
        "> 리스트는 뮤터블 객체입니다. 객체 내부의 요소를 변경하고 추가하였는데 주소값이 변경되지 않고 그대로 유지됨을 확인할 수 있습니다."
      ],
      "metadata": {
        "id": "ArX0VrPFKNvk"
      }
    },
    {
      "cell_type": "code",
      "source": [
        "my_list = [1, 2, 3]\n",
        "print(f\"my_list의 주소값: {id(my_list)}\")\n",
        "my_list[0] = 10    # 첫 번째 요소 변경\n",
        "my_list.append(4)  # 새로운 요소 추가\n",
        "print(f\"my_list의 값: {my_list}\")\n",
        "print(f\"my_list의 주소값: {id(my_list)}\")"
      ],
      "metadata": {
        "colab": {
          "base_uri": "https://localhost:8080/"
        },
        "id": "BKv-tUt-D0L1",
        "outputId": "10fc8ebf-9487-48ec-b6e6-f85ecdd0504e"
      },
      "execution_count": null,
      "outputs": [
        {
          "output_type": "stream",
          "name": "stdout",
          "text": [
            "my_list의 주소값: 140357695666112\n",
            "my_list의 값: [10, 2, 3, 4]\n",
            "my_list의 주소값: 140357695666112\n"
          ]
        }
      ]
    },
    {
      "cell_type": "markdown",
      "source": [
        "\n",
        "\n",
        "---\n",
        "\n"
      ],
      "metadata": {
        "id": "BTn9Hk5hVjoi"
      }
    },
    {
      "cell_type": "markdown",
      "source": [
        "# 📌 이터러블(Iterable) VS 이터러블이 불가능"
      ],
      "metadata": {
        "id": "EjO7IOobXiG8"
      }
    },
    {
      "cell_type": "markdown",
      "source": [
        "> ## 이터러블 객체 (Iterable)\n",
        "\n"
      ],
      "metadata": {
        "id": "R7u9nJkJgoFn"
      }
    },
    {
      "cell_type": "markdown",
      "source": [
        "### 1) 리스트"
      ],
      "metadata": {
        "id": "OtmKV3HRhBnB"
      }
    },
    {
      "cell_type": "code",
      "source": [
        "my_list = [1, 2, 3, 4, 5]\n",
        "my_iterator = iter(my_list)\n",
        "print(f\"my_iterator의 iter 객체 : {my_iterator}\")"
      ],
      "metadata": {
        "colab": {
          "base_uri": "https://localhost:8080/"
        },
        "id": "aWcW30sLhRBK",
        "outputId": "930eebfd-f7ed-452b-9cc4-70e3c8feba02"
      },
      "execution_count": null,
      "outputs": [
        {
          "output_type": "stream",
          "name": "stdout",
          "text": [
            "my_iterator의 iter : <list_iterator object at 0x7ca1d8a25e40>\n"
          ]
        }
      ]
    },
    {
      "cell_type": "markdown",
      "source": [
        "∙ iter() 함수가 생략되어있는 형태"
      ],
      "metadata": {
        "id": "IwpaYaLfipri"
      }
    },
    {
      "cell_type": "code",
      "source": [
        "for item in my_list:\n",
        "    print(item)"
      ],
      "metadata": {
        "colab": {
          "base_uri": "https://localhost:8080/"
        },
        "id": "46FE9-HKLtiO",
        "outputId": "cbb55cf1-0325-415b-d58f-74e857ba7b1d"
      },
      "execution_count": null,
      "outputs": [
        {
          "output_type": "stream",
          "name": "stdout",
          "text": [
            "1\n",
            "2\n",
            "3\n",
            "4\n",
            "5\n"
          ]
        }
      ]
    },
    {
      "cell_type": "markdown",
      "source": [
        "∙ iter() 함수를 명시적으로 쓴 것과 와 위의 코드는 동일"
      ],
      "metadata": {
        "id": "7eCGefXriuxk"
      }
    },
    {
      "cell_type": "code",
      "source": [
        "for item in iter(my_list):\n",
        "    print(item)"
      ],
      "metadata": {
        "colab": {
          "base_uri": "https://localhost:8080/"
        },
        "id": "UfLDLWe-XSRq",
        "outputId": "e8392b92-6082-4afb-c51c-36aa82ccbb89"
      },
      "execution_count": null,
      "outputs": [
        {
          "output_type": "stream",
          "name": "stdout",
          "text": [
            "1\n",
            "2\n",
            "3\n",
            "4\n",
            "5\n"
          ]
        }
      ]
    },
    {
      "cell_type": "markdown",
      "source": [
        "### 2) 문자열"
      ],
      "metadata": {
        "id": "KY8nSYmthEkn"
      }
    },
    {
      "cell_type": "code",
      "source": [
        "my_string = \"Hello\"\n",
        "my_iterator = iter(my_string)\n",
        "print(f\"my_iterator의 iter 객체 : {my_iterator}\")"
      ],
      "metadata": {
        "colab": {
          "base_uri": "https://localhost:8080/"
        },
        "id": "8-SEubynhZlo",
        "outputId": "dcc78220-9fa4-47ae-cb93-56003be9b9bb"
      },
      "execution_count": null,
      "outputs": [
        {
          "output_type": "stream",
          "name": "stdout",
          "text": [
            "my_iterator의 iter 객체 : <str_iterator object at 0x7ca1d8a27cd0>\n"
          ]
        }
      ]
    },
    {
      "cell_type": "markdown",
      "source": [
        "∙ iter() 함수가 생략되어있는 형태"
      ],
      "metadata": {
        "id": "1W8LuvYqjjjO"
      }
    },
    {
      "cell_type": "code",
      "source": [
        "for char in my_string:\n",
        "    print(char)"
      ],
      "metadata": {
        "colab": {
          "base_uri": "https://localhost:8080/"
        },
        "id": "R66IWFDEimjZ",
        "outputId": "a7c45139-f674-454e-c2a4-2ddd80c5fe75"
      },
      "execution_count": null,
      "outputs": [
        {
          "output_type": "stream",
          "name": "stdout",
          "text": [
            "H\n",
            "e\n",
            "l\n",
            "l\n",
            "o\n"
          ]
        }
      ]
    },
    {
      "cell_type": "markdown",
      "source": [
        "∙ iter() 함수를 명시적으로 쓴 것과 와 위의 코드는 동일"
      ],
      "metadata": {
        "id": "PGSlgIG9jnVw"
      }
    },
    {
      "cell_type": "code",
      "source": [
        "for char in iter(my_string):\n",
        "    print(char)"
      ],
      "metadata": {
        "colab": {
          "base_uri": "https://localhost:8080/"
        },
        "id": "rIeMdyJMi4qy",
        "outputId": "23f8f94f-d92a-489b-8bd8-0dec0ad7b84c"
      },
      "execution_count": null,
      "outputs": [
        {
          "output_type": "stream",
          "name": "stdout",
          "text": [
            "H\n",
            "e\n",
            "l\n",
            "l\n",
            "o\n"
          ]
        }
      ]
    },
    {
      "cell_type": "markdown",
      "source": [
        "### 3) 튜플"
      ],
      "metadata": {
        "id": "r3w8w40uhpFH"
      }
    },
    {
      "cell_type": "code",
      "source": [
        "my_tuple = (1, 2, 3)\n",
        "my_iterator = iter(my_tuple)\n",
        "print(f\"my_iterator의 iter 객체 : {my_iterator}\")"
      ],
      "metadata": {
        "colab": {
          "base_uri": "https://localhost:8080/"
        },
        "id": "uzyV9JBuhqZb",
        "outputId": "6baa7983-f57d-4ca8-c21f-523d53e185d5"
      },
      "execution_count": null,
      "outputs": [
        {
          "output_type": "stream",
          "name": "stdout",
          "text": [
            "my_iterator의 iter 객체 : <tuple_iterator object at 0x7ca1d8a26080>\n"
          ]
        }
      ]
    },
    {
      "cell_type": "markdown",
      "source": [
        "∙ iter() 함수가 생략되어있는 형태"
      ],
      "metadata": {
        "id": "LIaau37BkRNS"
      }
    },
    {
      "cell_type": "code",
      "source": [
        "for item in my_tuple:\n",
        "    print(item)"
      ],
      "metadata": {
        "colab": {
          "base_uri": "https://localhost:8080/"
        },
        "id": "2WzBMee6j1N5",
        "outputId": "964fe843-957b-4b33-efb6-aaaa28121ef3"
      },
      "execution_count": null,
      "outputs": [
        {
          "output_type": "stream",
          "name": "stdout",
          "text": [
            "1\n",
            "2\n",
            "3\n"
          ]
        }
      ]
    },
    {
      "cell_type": "markdown",
      "source": [
        "∙ iter() 함수를 명시적으로 쓴 것과 와 위의 코드는 동일"
      ],
      "metadata": {
        "id": "Z-F-2Du0kTHT"
      }
    },
    {
      "cell_type": "code",
      "source": [
        "for item in iter(my_tuple):\n",
        "    print(item)"
      ],
      "metadata": {
        "colab": {
          "base_uri": "https://localhost:8080/"
        },
        "id": "do7Wme_ZkLYK",
        "outputId": "4e386ffb-162b-4a01-b814-6a889de17b2d"
      },
      "execution_count": null,
      "outputs": [
        {
          "output_type": "stream",
          "name": "stdout",
          "text": [
            "1\n",
            "2\n",
            "3\n"
          ]
        }
      ]
    },
    {
      "cell_type": "markdown",
      "source": [
        "### 4) 딕셔너리"
      ],
      "metadata": {
        "id": "QBg3BKnon6dk"
      }
    },
    {
      "cell_type": "code",
      "source": [
        "my_dict = {'a': 1, 'b': 2, 'c': 3}\n",
        "my_iterator = iter(my_dict)\n",
        "print(f\"my_iterator의 iter 객체 : {my_iterator}\")"
      ],
      "metadata": {
        "colab": {
          "base_uri": "https://localhost:8080/"
        },
        "id": "EyaH-6-un4Qv",
        "outputId": "468b2498-06e8-4ff6-aab2-646e3b273333"
      },
      "execution_count": null,
      "outputs": [
        {
          "output_type": "stream",
          "name": "stdout",
          "text": [
            "my_iterator의 iter 객체 : <dict_keyiterator object at 0x7ca1abaff010>\n"
          ]
        }
      ]
    },
    {
      "cell_type": "markdown",
      "source": [
        "∙ iter() 함수가 생략되어있는 형태"
      ],
      "metadata": {
        "id": "y7kmosgIpCoQ"
      }
    },
    {
      "cell_type": "code",
      "source": [
        "for key in my_dict:\n",
        "    print(key, my_dict[key])"
      ],
      "metadata": {
        "colab": {
          "base_uri": "https://localhost:8080/"
        },
        "id": "1vZFUsz8o394",
        "outputId": "e8d2095c-0630-4ffd-cb57-3faaee01b874"
      },
      "execution_count": null,
      "outputs": [
        {
          "output_type": "stream",
          "name": "stdout",
          "text": [
            "a 1\n",
            "b 2\n",
            "c 3\n"
          ]
        }
      ]
    },
    {
      "cell_type": "markdown",
      "source": [
        "∙ iter() 함수를 명시적으로 쓴 것과 와 위의 코드는 동일"
      ],
      "metadata": {
        "id": "1hZOYmynpDHd"
      }
    },
    {
      "cell_type": "code",
      "source": [
        "for key in iter(my_dict):\n",
        "    print(key, my_dict[key])"
      ],
      "metadata": {
        "colab": {
          "base_uri": "https://localhost:8080/"
        },
        "id": "_ReQQ6HNo_JJ",
        "outputId": "699c63b3-fe2c-4d0c-deb8-9c382ad0a7c7"
      },
      "execution_count": null,
      "outputs": [
        {
          "output_type": "stream",
          "name": "stdout",
          "text": [
            "a 1\n",
            "b 2\n",
            "c 3\n"
          ]
        }
      ]
    },
    {
      "cell_type": "markdown",
      "source": [
        "### 5) 집합"
      ],
      "metadata": {
        "id": "xyFzqiFMoglx"
      }
    },
    {
      "cell_type": "code",
      "source": [
        "my_set = {1, 2, 3, 4, 5}\n",
        "my_itertator = iter(my_set)\n",
        "print(f\"my_iterator의 iter 객체 : {my_iterator}\")"
      ],
      "metadata": {
        "colab": {
          "base_uri": "https://localhost:8080/"
        },
        "id": "UH7-gmFfofxM",
        "outputId": "117a9a97-6b1e-47f4-9833-4fc91b227033"
      },
      "execution_count": null,
      "outputs": [
        {
          "output_type": "stream",
          "name": "stdout",
          "text": [
            "my_iterator의 iter 객체 : <dict_keyiterator object at 0x7ca1abaff010>\n"
          ]
        }
      ]
    },
    {
      "cell_type": "markdown",
      "source": [
        "∙ iter() 함수가 생략되어있는 형태"
      ],
      "metadata": {
        "id": "hcvsBUiBpH24"
      }
    },
    {
      "cell_type": "code",
      "source": [
        "for element in my_set:\n",
        "    print(element)"
      ],
      "metadata": {
        "colab": {
          "base_uri": "https://localhost:8080/"
        },
        "id": "Q7EHUHWZpMcV",
        "outputId": "38ba83e3-48f2-4a6f-d312-c2a99c748ec5"
      },
      "execution_count": null,
      "outputs": [
        {
          "output_type": "stream",
          "name": "stdout",
          "text": [
            "1\n",
            "2\n",
            "3\n",
            "4\n",
            "5\n"
          ]
        }
      ]
    },
    {
      "cell_type": "markdown",
      "source": [
        "∙ iter() 함수를 명시적으로 쓴 것과 와 위의 코드는 동일"
      ],
      "metadata": {
        "id": "TTsus9tmpHFv"
      }
    },
    {
      "cell_type": "code",
      "source": [
        "for element in iter(my_set):\n",
        "    print(element)"
      ],
      "metadata": {
        "colab": {
          "base_uri": "https://localhost:8080/"
        },
        "id": "AERbACPJpQqV",
        "outputId": "722e5a88-cc3f-415e-c97d-b8a3b6d6c6b2"
      },
      "execution_count": null,
      "outputs": [
        {
          "output_type": "stream",
          "name": "stdout",
          "text": [
            "1\n",
            "2\n",
            "3\n",
            "4\n",
            "5\n"
          ]
        }
      ]
    },
    {
      "cell_type": "markdown",
      "source": [
        "### 6) enumerate 함수"
      ],
      "metadata": {
        "id": "A3yF57Be3QJI"
      }
    },
    {
      "cell_type": "code",
      "source": [
        "# 이터러블(iterable) 객체를 받아 해당 객체의 각 원소에 대해 인덱스와 원소를 묶은 튜플을 반환하는 역할을 합니다.\n",
        "my_list = ['a', 'b', 'c']\n",
        "for index, value in enumerate(my_list):\n",
        "    print(index, value)"
      ],
      "metadata": {
        "colab": {
          "base_uri": "https://localhost:8080/"
        },
        "id": "yNoneDJt3WfM",
        "outputId": "8f878911-a7f6-46c6-f217-da4ecd0829b1"
      },
      "execution_count": null,
      "outputs": [
        {
          "output_type": "stream",
          "name": "stdout",
          "text": [
            "0 a\n",
            "1 b\n",
            "2 c\n"
          ]
        }
      ]
    },
    {
      "cell_type": "code",
      "source": [
        "for index, value in enumerate(my_list, start=1):\n",
        "    print(index, value)"
      ],
      "metadata": {
        "colab": {
          "base_uri": "https://localhost:8080/"
        },
        "id": "fsRwKar73lhX",
        "outputId": "184f6677-3d42-4b3c-8a0d-0e62aea420bd"
      },
      "execution_count": null,
      "outputs": [
        {
          "output_type": "stream",
          "name": "stdout",
          "text": [
            "1 a\n",
            "2 b\n",
            "3 c\n"
          ]
        }
      ]
    },
    {
      "cell_type": "markdown",
      "source": [
        "### 7) zip 함수"
      ],
      "metadata": {
        "id": "38nHCxTD5F6t"
      }
    },
    {
      "cell_type": "code",
      "source": [
        "# zip 함수는 여러 개의 이터러블(iterable) 객체를 받아 각 객체에서 순서대로 원소를 묶어 튜플을 생성하는 역할을 합니다.\n",
        "# 묶인 튜플들은 zip 객체로 반환됩니다.\n",
        "list1 = [1, 2, 3]\n",
        "list2 = ['a', 'b', 'c']\n",
        "for item1, item2 in zip(list1, list2):\n",
        "    print(item1, item2)"
      ],
      "metadata": {
        "colab": {
          "base_uri": "https://localhost:8080/"
        },
        "id": "9XsKQG9t5JDT",
        "outputId": "fec6c203-9fbf-4105-80d6-5e30c59c1dc5"
      },
      "execution_count": null,
      "outputs": [
        {
          "output_type": "stream",
          "name": "stdout",
          "text": [
            "1 a\n",
            "2 b\n",
            "3 c\n"
          ]
        }
      ]
    },
    {
      "cell_type": "markdown",
      "source": [
        "* 혹은, 직접 이터레이터 객체를 만드는 방법도 있습니다."
      ],
      "metadata": {
        "id": "dJ3y-fyMGu4F"
      }
    },
    {
      "cell_type": "code",
      "source": [
        "my_iterable = iter([1, 2, 3, '사', '오'])\n",
        "for item in my_iterable:\n",
        "    print(item)"
      ],
      "metadata": {
        "colab": {
          "base_uri": "https://localhost:8080/"
        },
        "id": "-M8jE6RZGb4t",
        "outputId": "0f9ae9a9-6702-4e3b-fcc3-5c7d22b93bd8"
      },
      "execution_count": null,
      "outputs": [
        {
          "output_type": "stream",
          "name": "stdout",
          "text": [
            "1\n",
            "2\n",
            "3\n",
            "사\n",
            "오\n"
          ]
        }
      ]
    },
    {
      "cell_type": "markdown",
      "source": [
        "> ## 이터러블이 아닌 객체 (Non-Iterable)"
      ],
      "metadata": {
        "id": "xaDMQZCxjbUp"
      }
    },
    {
      "cell_type": "markdown",
      "source": [
        "### 1) 정수형"
      ],
      "metadata": {
        "id": "Dv1yIJKclhw3"
      }
    },
    {
      "cell_type": "code",
      "source": [
        "my_int = 42\n",
        "my_int_iterator = iter(my_int)  # 에러 발생"
      ],
      "metadata": {
        "colab": {
          "base_uri": "https://localhost:8080/",
          "height": 198
        },
        "id": "yzbi98eYkw8O",
        "outputId": "0262e79d-848f-4c6e-ca31-a75d99532c28"
      },
      "execution_count": null,
      "outputs": [
        {
          "output_type": "error",
          "ename": "TypeError",
          "evalue": "'int' object is not iterable",
          "traceback": [
            "\u001b[0;31m---------------------------------------------------------------------------\u001b[0m",
            "\u001b[0;31mTypeError\u001b[0m                                 Traceback (most recent call last)",
            "\u001b[0;32m<ipython-input-22-47e20a836466>\u001b[0m in \u001b[0;36m<cell line: 2>\u001b[0;34m()\u001b[0m\n\u001b[1;32m      1\u001b[0m \u001b[0mmy_int\u001b[0m \u001b[0;34m=\u001b[0m \u001b[0;36m42\u001b[0m\u001b[0;34m\u001b[0m\u001b[0;34m\u001b[0m\u001b[0m\n\u001b[0;32m----> 2\u001b[0;31m \u001b[0mmy_int_iterator\u001b[0m \u001b[0;34m=\u001b[0m \u001b[0miter\u001b[0m\u001b[0;34m(\u001b[0m\u001b[0mmy_int\u001b[0m\u001b[0;34m)\u001b[0m  \u001b[0;31m# 에러 발생\u001b[0m\u001b[0;34m\u001b[0m\u001b[0;34m\u001b[0m\u001b[0m\n\u001b[0m",
            "\u001b[0;31mTypeError\u001b[0m: 'int' object is not iterable"
          ]
        }
      ]
    },
    {
      "cell_type": "code",
      "source": [
        "# 이터러블이 가능한 range 객체에 정수를 넣어 사용할 수 있습니다.\n",
        "for i in range(5):\n",
        "    print(i)"
      ],
      "metadata": {
        "colab": {
          "base_uri": "https://localhost:8080/"
        },
        "id": "VckHDtqr0ym4",
        "outputId": "dafe4aef-36b6-4583-ea3b-1a7f22a329f1"
      },
      "execution_count": null,
      "outputs": [
        {
          "output_type": "stream",
          "name": "stdout",
          "text": [
            "0\n",
            "1\n",
            "2\n",
            "3\n",
            "4\n"
          ]
        }
      ]
    },
    {
      "cell_type": "markdown",
      "source": [
        "### 2) 소수형"
      ],
      "metadata": {
        "id": "7UoZnXmilmuB"
      }
    },
    {
      "cell_type": "code",
      "source": [
        "my_float = 3.14\n",
        "my_float_iterator = iter(my_float)  # 에러 발생"
      ],
      "metadata": {
        "colab": {
          "base_uri": "https://localhost:8080/",
          "height": 198
        },
        "id": "BW1j1n4_k1rZ",
        "outputId": "1513b040-1f12-4731-f546-d4027e6dd3b0"
      },
      "execution_count": null,
      "outputs": [
        {
          "output_type": "error",
          "ename": "TypeError",
          "evalue": "'float' object is not iterable",
          "traceback": [
            "\u001b[0;31m---------------------------------------------------------------------------\u001b[0m",
            "\u001b[0;31mTypeError\u001b[0m                                 Traceback (most recent call last)",
            "\u001b[0;32m<ipython-input-23-56453a6b463f>\u001b[0m in \u001b[0;36m<cell line: 2>\u001b[0;34m()\u001b[0m\n\u001b[1;32m      1\u001b[0m \u001b[0mmy_float\u001b[0m \u001b[0;34m=\u001b[0m \u001b[0;36m3.14\u001b[0m\u001b[0;34m\u001b[0m\u001b[0;34m\u001b[0m\u001b[0m\n\u001b[0;32m----> 2\u001b[0;31m \u001b[0mmy_float_iterator\u001b[0m \u001b[0;34m=\u001b[0m \u001b[0miter\u001b[0m\u001b[0;34m(\u001b[0m\u001b[0mmy_float\u001b[0m\u001b[0;34m)\u001b[0m  \u001b[0;31m# 에러 발생\u001b[0m\u001b[0;34m\u001b[0m\u001b[0;34m\u001b[0m\u001b[0m\n\u001b[0m",
            "\u001b[0;31mTypeError\u001b[0m: 'float' object is not iterable"
          ]
        }
      ]
    },
    {
      "cell_type": "markdown",
      "source": [
        "### 3) 불리언"
      ],
      "metadata": {
        "id": "4hl5r9ZKlorv"
      }
    },
    {
      "cell_type": "code",
      "source": [
        "my_bool = True\n",
        "my_bool_iterator = iter(my_bool)  # 에러 발생"
      ],
      "metadata": {
        "colab": {
          "base_uri": "https://localhost:8080/",
          "height": 198
        },
        "id": "2qQ4OCjFk5Z4",
        "outputId": "6204608a-3f33-4f8b-ad46-fc0ce595d7e0"
      },
      "execution_count": null,
      "outputs": [
        {
          "output_type": "error",
          "ename": "TypeError",
          "evalue": "'bool' object is not iterable",
          "traceback": [
            "\u001b[0;31m---------------------------------------------------------------------------\u001b[0m",
            "\u001b[0;31mTypeError\u001b[0m                                 Traceback (most recent call last)",
            "\u001b[0;32m<ipython-input-24-05ca69d42461>\u001b[0m in \u001b[0;36m<cell line: 2>\u001b[0;34m()\u001b[0m\n\u001b[1;32m      1\u001b[0m \u001b[0mmy_bool\u001b[0m \u001b[0;34m=\u001b[0m \u001b[0;32mTrue\u001b[0m\u001b[0;34m\u001b[0m\u001b[0;34m\u001b[0m\u001b[0m\n\u001b[0;32m----> 2\u001b[0;31m \u001b[0mmy_bool_iterator\u001b[0m \u001b[0;34m=\u001b[0m \u001b[0miter\u001b[0m\u001b[0;34m(\u001b[0m\u001b[0mmy_bool\u001b[0m\u001b[0;34m)\u001b[0m  \u001b[0;31m# 에러 발생\u001b[0m\u001b[0;34m\u001b[0m\u001b[0;34m\u001b[0m\u001b[0m\n\u001b[0m",
            "\u001b[0;31mTypeError\u001b[0m: 'bool' object is not iterable"
          ]
        }
      ]
    },
    {
      "cell_type": "markdown",
      "source": [
        "\n",
        "\n",
        "---\n",
        "\n"
      ],
      "metadata": {
        "id": "z8z7eHxlpfN3"
      }
    },
    {
      "cell_type": "markdown",
      "source": [
        "# 📌 함수"
      ],
      "metadata": {
        "id": "w5yPWdveKw9V"
      }
    },
    {
      "cell_type": "markdown",
      "source": [
        "### 1. 리턴값이 있는 일반 함수"
      ],
      "metadata": {
        "id": "xhbOmSmRVmMv"
      }
    },
    {
      "cell_type": "markdown",
      "source": [
        "1) 함수 생성 (두 수를 입력받아 두개의 값을 더한 값으로 리턴하는)"
      ],
      "metadata": {
        "id": "xevZsKp9VuJF"
      }
    },
    {
      "cell_type": "code",
      "source": [
        "def add_numbers(a, b):\n",
        "    result = a + b\n",
        "    return result"
      ],
      "metadata": {
        "id": "I0Fk6D_LVlC2"
      },
      "execution_count": null,
      "outputs": []
    },
    {
      "cell_type": "markdown",
      "source": [
        "2) 만든 sum_result 함수를 호출하여 결과값을 변수에 담고, 확인해보기 위해 print 해보기"
      ],
      "metadata": {
        "id": "hyd1Tg4IVvd4"
      }
    },
    {
      "cell_type": "code",
      "source": [
        "sum_result = add_numbers(3, 5)\n",
        "print(\"Sum:\", sum_result)"
      ],
      "metadata": {
        "colab": {
          "base_uri": "https://localhost:8080/"
        },
        "id": "W138AWFWVwV5",
        "outputId": "5ec764f0-4e3a-4ddb-b50d-ce61cdc245c4"
      },
      "execution_count": null,
      "outputs": [
        {
          "output_type": "stream",
          "name": "stdout",
          "text": [
            "Sum: 8\n"
          ]
        }
      ]
    },
    {
      "cell_type": "markdown",
      "source": [
        "<br/>"
      ],
      "metadata": {
        "id": "j2KJg_tsWcz2"
      }
    },
    {
      "cell_type": "markdown",
      "source": [
        "### 2. 리턴값이 없는 void 함수"
      ],
      "metadata": {
        "id": "zlmr79BNWBeZ"
      }
    },
    {
      "cell_type": "markdown",
      "source": [
        "1) 함수 생성 (이름을 입력받아 인사를 건네는)\n",
        "\n"
      ],
      "metadata": {
        "id": "C9yGmq3wWEaY"
      }
    },
    {
      "cell_type": "code",
      "source": [
        "def greet(name):\n",
        "    print(\"Hello, \" + name + \"!\")"
      ],
      "metadata": {
        "id": "sXQU7G5aWJWM"
      },
      "execution_count": null,
      "outputs": []
    },
    {
      "cell_type": "markdown",
      "source": [
        "2) 만든 greet 함수를 호출한다. (리턴값이 없는 void 함수이기 때문에, 변수에 담아 사용할 필요가 없다.)"
      ],
      "metadata": {
        "id": "YMtbflcBWjlY"
      }
    },
    {
      "cell_type": "code",
      "source": [
        "greet(\"Alice\")"
      ],
      "metadata": {
        "colab": {
          "base_uri": "https://localhost:8080/"
        },
        "id": "SuNfuZd8WiSi",
        "outputId": "8201629b-25cc-41f2-f0f0-8244649a6e20"
      },
      "execution_count": null,
      "outputs": [
        {
          "output_type": "stream",
          "name": "stdout",
          "text": [
            "Hello, Alice!\n"
          ]
        }
      ]
    },
    {
      "cell_type": "markdown",
      "source": [
        "<br/>"
      ],
      "metadata": {
        "id": "Ea0OTWAYRSGH"
      }
    },
    {
      "cell_type": "markdown",
      "source": [
        "### 3. 리턴값도, 투입값도 없는 함수 만들기"
      ],
      "metadata": {
        "id": "iXEWUOYVRKvb"
      }
    },
    {
      "cell_type": "markdown",
      "source": [
        "1) 함수 생성 (아무것도 입력받지 않고 인사를 하는)"
      ],
      "metadata": {
        "id": "kbhFbZ8rRlKU"
      }
    },
    {
      "cell_type": "code",
      "source": [
        "def greet():\n",
        "    print(\"Hello, Stranger!\")"
      ],
      "metadata": {
        "id": "9sA0up6HRW0g"
      },
      "execution_count": null,
      "outputs": []
    },
    {
      "cell_type": "markdown",
      "source": [
        "2) 만든 greet 함수를 호출한다. (마찬가지로, 리턴값이 없는 void 함수이기 때문에, 변수에 담아 사용할 필요가 없다.)"
      ],
      "metadata": {
        "id": "PeYdIdQDRp6Q"
      }
    },
    {
      "cell_type": "code",
      "source": [
        "greet()"
      ],
      "metadata": {
        "colab": {
          "base_uri": "https://localhost:8080/"
        },
        "id": "egvASGixRatl",
        "outputId": "777d2fb7-bb22-4250-a995-4caf6a1d8b0b"
      },
      "execution_count": null,
      "outputs": [
        {
          "output_type": "stream",
          "name": "stdout",
          "text": [
            "Hello, Stranger!\n"
          ]
        }
      ]
    },
    {
      "cell_type": "markdown",
      "source": [
        "\n",
        "\n",
        "---\n",
        "\n"
      ],
      "metadata": {
        "id": "vukbyodObd9G"
      }
    },
    {
      "cell_type": "markdown",
      "source": [
        "# 📌 조건문"
      ],
      "metadata": {
        "id": "7aCgiLdabkhr"
      }
    },
    {
      "cell_type": "markdown",
      "source": [
        "> if 문"
      ],
      "metadata": {
        "id": "6AKF-3lRhMkb"
      }
    },
    {
      "cell_type": "markdown",
      "source": [
        ": if은 만약에 라는 뜻으로, 조건을 걸어줄 수 있습니다."
      ],
      "metadata": {
        "id": "QJDEYz0Jh0Iq"
      }
    },
    {
      "cell_type": "code",
      "source": [
        "x = 10\n",
        "\n",
        "if x > 5:\n",
        "    print(\"x는 5보다 큽니다.\")"
      ],
      "metadata": {
        "colab": {
          "base_uri": "https://localhost:8080/"
        },
        "id": "v2QUeQxfbfxo",
        "outputId": "19c47ca1-a94a-4175-dde0-6c9111854f4a"
      },
      "execution_count": null,
      "outputs": [
        {
          "output_type": "stream",
          "name": "stdout",
          "text": [
            "x는 5보다 큽니다.\n"
          ]
        }
      ]
    },
    {
      "cell_type": "markdown",
      "source": [
        "> if - else 문"
      ],
      "metadata": {
        "id": "ifVcdhANgjtS"
      }
    },
    {
      "cell_type": "markdown",
      "source": [
        ": else문은 그 밖의 모든 것을 뜻합니다."
      ],
      "metadata": {
        "id": "1hlGb1mnhbev"
      }
    },
    {
      "cell_type": "code",
      "source": [
        "y = 3\n",
        "\n",
        "if y % 2 == 0:\n",
        "    print(\"y는 짝수입니다.\")\n",
        "else:\n",
        "    print(\"y는 홀수입니다.\")"
      ],
      "metadata": {
        "colab": {
          "base_uri": "https://localhost:8080/"
        },
        "id": "CTEhbmTqggIY",
        "outputId": "c6574196-7486-4661-8781-8725fa14858f"
      },
      "execution_count": null,
      "outputs": [
        {
          "output_type": "stream",
          "name": "stdout",
          "text": [
            "y는 홀수입니다.\n"
          ]
        }
      ]
    },
    {
      "cell_type": "markdown",
      "source": [
        "> if ~ elif ~ else문"
      ],
      "metadata": {
        "id": "0MHjUlYNhP03"
      }
    },
    {
      "cell_type": "markdown",
      "source": [
        ": if 는 조건문, 그리고 elif는 if 문에 걸리지 않았을때 그 밖의 조건입니다. <br/>\n",
        "else 문은 그 모든 것들이 다 걸리지 않을 경우에 최후에 걸리는 조건입니다."
      ],
      "metadata": {
        "id": "H6Nlp5ythmeG"
      }
    },
    {
      "cell_type": "code",
      "source": [
        "grade = 75\n",
        "\n",
        "if grade >= 90:\n",
        "    print(\"A 학점\")\n",
        "elif grade >= 80:\n",
        "    print(\"B 학점\")\n",
        "elif grade >= 70:\n",
        "    print(\"C 학점\")\n",
        "else:\n",
        "    print(\"D 학점\")"
      ],
      "metadata": {
        "colab": {
          "base_uri": "https://localhost:8080/"
        },
        "id": "EbnM1PoFhUBT",
        "outputId": "e7365ebe-0228-4508-847e-e2afe766f249"
      },
      "execution_count": null,
      "outputs": [
        {
          "output_type": "stream",
          "name": "stdout",
          "text": [
            "C 학점\n"
          ]
        }
      ]
    },
    {
      "cell_type": "markdown",
      "source": [
        "> 조건 표현식"
      ],
      "metadata": {
        "id": "S8BEtfeNi29B"
      }
    },
    {
      "cell_type": "markdown",
      "source": [
        ": 파이썬의 조건 표현식은 간단하게 조건문을 한 줄로 표현하는 방법입니다. 다른 언어에서는 \"삼항 연산자\"라고도 불리며, 일반적인 형식은 다음과 같습니다. <br/><br/>\n",
        "<b> value_if_true if condition else value_if_false </b> <br/>\n",
        "condition이 참(True)이면 value_if_true가 선택되고, 거짓(False)이면 value_if_false가 선택됩니다.\n"
      ],
      "metadata": {
        "id": "vigv5vorjDyf"
      }
    },
    {
      "cell_type": "code",
      "source": [
        "number = 7\n",
        "# number % 2 == 0 인 것은 짝수입니다.\n",
        "# 7은 홀수이므로 False이고, else 뒤에 있는 \"홀수\"가 최종적으로 result 변수에 들어갑니다.\n",
        "result = \"짝수\" if number % 2 == 0 else \"홀수\"\n",
        "print(result)"
      ],
      "metadata": {
        "colab": {
          "base_uri": "https://localhost:8080/"
        },
        "id": "akD24v1JjCBa",
        "outputId": "ea8def4d-6d8c-4874-9a69-8f915279b7ea"
      },
      "execution_count": null,
      "outputs": [
        {
          "output_type": "stream",
          "name": "stdout",
          "text": [
            "홀수\n"
          ]
        }
      ]
    },
    {
      "cell_type": "markdown",
      "source": [
        "> 'and', 'or', 'not' 사용"
      ],
      "metadata": {
        "id": "9ncVoFRxllVI"
      }
    },
    {
      "cell_type": "markdown",
      "source": [
        ": and(둘다 만족), or(또는), not(부정) 연산자는 하나 뿐만 아니라 소괄호를 써서 여러개 사용할 수 있습니다. <br/>\n",
        "ex. (x and y) or (not z)"
      ],
      "metadata": {
        "id": "7VfTNkG2lvTQ"
      }
    },
    {
      "cell_type": "markdown",
      "source": [
        "1) and 연산자"
      ],
      "metadata": {
        "id": "b_1rEAsKlruj"
      }
    },
    {
      "cell_type": "markdown",
      "source": [
        ": and 연산자는 앞 뒤로 나오는 조건이 모두 만족해야 참(True) 입니다."
      ],
      "metadata": {
        "id": "KTCtHS4HmxPG"
      }
    },
    {
      "cell_type": "code",
      "source": [
        "x = 15\n",
        "y = 25\n",
        "\n",
        "if x > 10 and y < 30:\n",
        "    print(\"조건을 만족합니다.\")\n",
        "else:\n",
        "    print(\"조건을 만족하지 않습니다.\")"
      ],
      "metadata": {
        "colab": {
          "base_uri": "https://localhost:8080/"
        },
        "id": "MfxqQX68mFzJ",
        "outputId": "36fe5b73-91c8-49ba-eeeb-0741a372f44b"
      },
      "execution_count": null,
      "outputs": [
        {
          "output_type": "stream",
          "name": "stdout",
          "text": [
            "조건을 만족합니다.\n"
          ]
        }
      ]
    },
    {
      "cell_type": "markdown",
      "source": [
        "2) or 연산자"
      ],
      "metadata": {
        "id": "RHLvM0NjmeJ7"
      }
    },
    {
      "cell_type": "markdown",
      "source": [
        ": or 연산자는 앞 뒤로 나오는 조건 중에서 하나만이라도 만족하면 참(True) 입니다."
      ],
      "metadata": {
        "id": "vmrzalz-m5ou"
      }
    },
    {
      "cell_type": "code",
      "source": [
        "name = \"Alice\"\n",
        "age = 25\n",
        "\n",
        "if name == \"Alice\" or age == 30:\n",
        "    print(\"조건을 만족합니다.\")\n",
        "else:\n",
        "    print(\"조건을 만족하지 않습니다.\")"
      ],
      "metadata": {
        "colab": {
          "base_uri": "https://localhost:8080/"
        },
        "id": "dSs5SQGGmj8-",
        "outputId": "c40bd881-fbbd-42ca-e59b-cb24fb3ab245"
      },
      "execution_count": null,
      "outputs": [
        {
          "output_type": "stream",
          "name": "stdout",
          "text": [
            "조건을 만족합니다.\n"
          ]
        }
      ]
    },
    {
      "cell_type": "markdown",
      "source": [
        "3) not 연산자"
      ],
      "metadata": {
        "id": "C1aNgmX6nAaL"
      }
    },
    {
      "cell_type": "markdown",
      "source": [
        ": not 연산자는 부정연산자로, 참을 거짓으로 만들고 거짓을 참으로 만드는 것 처럼 반전을 시킵니다. 해당 예제에서도, is_raining은 False이므로 not 뒤에 is_raining을 붙이면 최종적으로 True가 됩니다."
      ],
      "metadata": {
        "id": "QG038-wgnH4W"
      }
    },
    {
      "cell_type": "code",
      "source": [
        "is_raining = False\n",
        "\n",
        "if not is_raining:\n",
        "    print(\"비가 오지 않습니다.\")\n",
        "else:\n",
        "    print(\"비가 옵니다.\")"
      ],
      "metadata": {
        "colab": {
          "base_uri": "https://localhost:8080/"
        },
        "id": "AO8CwX4tnEVU",
        "outputId": "e07e8e56-b810-4ba9-8a12-3ca3b18b786d"
      },
      "execution_count": null,
      "outputs": [
        {
          "output_type": "stream",
          "name": "stdout",
          "text": [
            "비가 오지 않습니다.\n"
          ]
        }
      ]
    },
    {
      "cell_type": "markdown",
      "source": [
        "> 중첩된 if 조건문"
      ],
      "metadata": {
        "id": "76x6e7tBpKvF"
      }
    },
    {
      "cell_type": "markdown",
      "source": [
        ": 조건문을 여러개 중첩할 수 있습니다."
      ],
      "metadata": {
        "id": "zc2epvyApPmB"
      }
    },
    {
      "cell_type": "code",
      "source": [
        "temperature = 25\n",
        "\n",
        "if temperature > 30:\n",
        "    if temperature > 35:\n",
        "        print(\"너무 더워요!\")\n",
        "    else:\n",
        "        print(\"더워요.\")\n",
        "elif temperature > 20:\n",
        "    print(\"적당한 날씨입니다.\")\n",
        "else:\n",
        "    print(\"추울 수 있어요.\")"
      ],
      "metadata": {
        "colab": {
          "base_uri": "https://localhost:8080/"
        },
        "id": "EtWKd5C_pJ47",
        "outputId": "3db81586-190a-4d78-dfae-f0a140df1ca8"
      },
      "execution_count": null,
      "outputs": [
        {
          "output_type": "stream",
          "name": "stdout",
          "text": [
            "적당한 날씨입니다.\n"
          ]
        }
      ]
    },
    {
      "cell_type": "markdown",
      "source": [
        "\n",
        "\n",
        "---\n",
        "\n"
      ],
      "metadata": {
        "id": "uS6ANLAkNP88"
      }
    },
    {
      "cell_type": "markdown",
      "source": [
        "# 📌 반복문"
      ],
      "metadata": {
        "id": "5DegC1ZiSyOg"
      }
    },
    {
      "cell_type": "markdown",
      "source": [
        "가장 많이 쓰이는 방식\n",
        "> for item in items:"
      ],
      "metadata": {
        "id": "NyY4ivbOS3YT"
      }
    },
    {
      "cell_type": "code",
      "source": [
        "my_list = [1, 2, 3, 4, 5]\n",
        "for item in my_list:\n",
        "  print(item)"
      ],
      "metadata": {
        "colab": {
          "base_uri": "https://localhost:8080/"
        },
        "id": "vDP8ax-_S8h0",
        "outputId": "1d203090-1de3-493a-da04-eb59af14df9d"
      },
      "execution_count": null,
      "outputs": [
        {
          "output_type": "stream",
          "name": "stdout",
          "text": [
            "1\n",
            "2\n",
            "3\n",
            "4\n",
            "5\n"
          ]
        }
      ]
    },
    {
      "cell_type": "markdown",
      "source": [
        "인덱싱할때 많이 쓰이는 방식\n",
        "> for i range(start_idx, end_idx):"
      ],
      "metadata": {
        "id": "-UZTfM6ZTGqE"
      }
    },
    {
      "cell_type": "code",
      "source": [
        "for i in range(1, 6):\n",
        "  print(i)"
      ],
      "metadata": {
        "colab": {
          "base_uri": "https://localhost:8080/"
        },
        "id": "OrPfhkC_TMZm",
        "outputId": "4ca67786-1d05-4635-94df-02c31e80e023"
      },
      "execution_count": null,
      "outputs": [
        {
          "output_type": "stream",
          "name": "stdout",
          "text": [
            "1\n",
            "2\n",
            "3\n",
            "4\n",
            "5\n"
          ]
        }
      ]
    },
    {
      "cell_type": "markdown",
      "source": [
        "\n",
        "\n",
        "---\n",
        "\n"
      ],
      "metadata": {
        "id": "iXGP8ZmSUY8s"
      }
    },
    {
      "cell_type": "markdown",
      "source": [
        "<b>📢 PROMPT.</b>\n",
        "\n",
        "파이썬에서 for문으로 작성하는 방법을 모두 알려줘."
      ],
      "metadata": {
        "id": "-36BqYHyUaE_"
      }
    },
    {
      "cell_type": "markdown",
      "source": [
        "1. 리스트 순회"
      ],
      "metadata": {
        "id": "dmha-tXaUlyE"
      }
    },
    {
      "cell_type": "code",
      "source": [
        "my_list = [1, 2, 3, 4, 5]\n",
        "for item in my_list:\n",
        "    print(item)"
      ],
      "metadata": {
        "colab": {
          "base_uri": "https://localhost:8080/"
        },
        "id": "F3dhbfsUUjOa",
        "outputId": "3df1ac89-2685-4736-d385-9d3de32707de"
      },
      "execution_count": null,
      "outputs": [
        {
          "output_type": "stream",
          "name": "stdout",
          "text": [
            "1\n",
            "2\n",
            "3\n",
            "4\n",
            "5\n"
          ]
        }
      ]
    },
    {
      "cell_type": "markdown",
      "source": [
        "2. 문자열 순회"
      ],
      "metadata": {
        "id": "8tmtjKa_UoSx"
      }
    },
    {
      "cell_type": "code",
      "source": [
        "my_string = \"Hello\"\n",
        "for char in my_string:\n",
        "    print(char)"
      ],
      "metadata": {
        "colab": {
          "base_uri": "https://localhost:8080/"
        },
        "id": "P5lvFDcwUqtA",
        "outputId": "43321c79-8181-45cb-cc9b-3fb34022c5dd"
      },
      "execution_count": null,
      "outputs": [
        {
          "output_type": "stream",
          "name": "stdout",
          "text": [
            "H\n",
            "e\n",
            "l\n",
            "l\n",
            "o\n"
          ]
        }
      ]
    },
    {
      "cell_type": "markdown",
      "source": [
        "3. 딕셔너리(키) 순회"
      ],
      "metadata": {
        "id": "Lyl5mj2qUsY5"
      }
    },
    {
      "cell_type": "code",
      "source": [
        "my_dict = {'a': 1, 'b': 2, 'c': 3}\n",
        "for key in my_dict:\n",
        "    print(key)"
      ],
      "metadata": {
        "colab": {
          "base_uri": "https://localhost:8080/"
        },
        "id": "o5YwseMJUvHn",
        "outputId": "f9e9766c-6c3f-4847-fa4c-ee3fe3c027b8"
      },
      "execution_count": null,
      "outputs": [
        {
          "output_type": "stream",
          "name": "stdout",
          "text": [
            "a\n",
            "b\n",
            "c\n"
          ]
        }
      ]
    },
    {
      "cell_type": "markdown",
      "source": [
        "4. 딕셔너리(키,값) 순회"
      ],
      "metadata": {
        "id": "aAvWy46cUxQR"
      }
    },
    {
      "cell_type": "code",
      "source": [
        "my_dict = {'a': 1, 'b': 2, 'c': 3}\n",
        "for key, value in my_dict.items():\n",
        "    print(f\"Key: {key}, Value: {value}\")"
      ],
      "metadata": {
        "colab": {
          "base_uri": "https://localhost:8080/"
        },
        "id": "MrMCYP9jU0kZ",
        "outputId": "af1efc17-720b-42cf-a5b0-4bf086a33b5e"
      },
      "execution_count": null,
      "outputs": [
        {
          "output_type": "stream",
          "name": "stdout",
          "text": [
            "Key: a, Value: 1\n",
            "Key: b, Value: 2\n",
            "Key: c, Value: 3\n"
          ]
        }
      ]
    },
    {
      "cell_type": "markdown",
      "source": [
        "5. 범위 순회"
      ],
      "metadata": {
        "id": "SzNgfdeuU3ib"
      }
    },
    {
      "cell_type": "code",
      "source": [
        "for num in range(5):\n",
        "    print(num)"
      ],
      "metadata": {
        "colab": {
          "base_uri": "https://localhost:8080/"
        },
        "id": "XYNmD9cPU4lB",
        "outputId": "99d69bd0-84de-4be9-9ecd-5f59f9300d6c"
      },
      "execution_count": null,
      "outputs": [
        {
          "output_type": "stream",
          "name": "stdout",
          "text": [
            "0\n",
            "1\n",
            "2\n",
            "3\n",
            "4\n"
          ]
        }
      ]
    },
    {
      "cell_type": "markdown",
      "source": [
        "6. enumurate 사용 (인덱스의 값)"
      ],
      "metadata": {
        "id": "HGEQ09SmU6Tr"
      }
    },
    {
      "cell_type": "code",
      "source": [
        "my_list = ['apple', 'banana', 'cherry']\n",
        "for index, value in enumerate(my_list):\n",
        "    print(f\"Index: {index}, Value: {value}\")"
      ],
      "metadata": {
        "colab": {
          "base_uri": "https://localhost:8080/"
        },
        "id": "I692miAHU_Ks",
        "outputId": "abd61189-5f6a-4eba-871a-1a2ab1c01adb"
      },
      "execution_count": null,
      "outputs": [
        {
          "output_type": "stream",
          "name": "stdout",
          "text": [
            "Index: 0, Value: apple\n",
            "Index: 1, Value: banana\n",
            "Index: 2, Value: cherry\n"
          ]
        }
      ]
    },
    {
      "cell_type": "markdown",
      "source": [
        "7. zip 사용 (여러 이터러블 동시 순회)"
      ],
      "metadata": {
        "id": "VzgC_7WaVAl-"
      }
    },
    {
      "cell_type": "code",
      "source": [
        "list1 = [7, 8, '구']\n",
        "list2 = ['a', 'b', 'c']\n",
        "for item1, item2 in zip(list1, list2):\n",
        "    print(item1, item2)"
      ],
      "metadata": {
        "colab": {
          "base_uri": "https://localhost:8080/"
        },
        "id": "ltdeuj0RVF-8",
        "outputId": "26c3df6b-7dab-4d12-b5b5-cc4e1585355f"
      },
      "execution_count": null,
      "outputs": [
        {
          "output_type": "stream",
          "name": "stdout",
          "text": [
            "7 a\n",
            "8 b\n",
            "구 c\n"
          ]
        }
      ]
    },
    {
      "cell_type": "markdown",
      "source": [
        "8. 이터러블과 조건문 함께 사용"
      ],
      "metadata": {
        "id": "yOomoBKvVNfg"
      }
    },
    {
      "cell_type": "code",
      "source": [
        "my_list = [1, 2, 3, 4, 5]\n",
        "for item in my_list:\n",
        "    if item % 2 == 0:\n",
        "        print(item)"
      ],
      "metadata": {
        "colab": {
          "base_uri": "https://localhost:8080/"
        },
        "id": "qPgygoJWVPcW",
        "outputId": "eaf5f71d-c0dc-47e9-957b-5e757351ea46"
      },
      "execution_count": null,
      "outputs": [
        {
          "output_type": "stream",
          "name": "stdout",
          "text": [
            "2\n",
            "4\n"
          ]
        }
      ]
    },
    {
      "cell_type": "markdown",
      "source": [
        "9. 중첩된 for문 (이중루프)"
      ],
      "metadata": {
        "id": "bJfxOMiYVXp4"
      }
    },
    {
      "cell_type": "code",
      "source": [
        "for i in range(3):\n",
        "    for j in range(2):\n",
        "        print(i, j)"
      ],
      "metadata": {
        "colab": {
          "base_uri": "https://localhost:8080/"
        },
        "id": "Q825vwweVa0o",
        "outputId": "662d2a0b-098a-48b6-e864-a77de116f4e2"
      },
      "execution_count": null,
      "outputs": [
        {
          "output_type": "stream",
          "name": "stdout",
          "text": [
            "0 0\n",
            "0 1\n",
            "1 0\n",
            "1 1\n",
            "2 0\n",
            "2 1\n"
          ]
        }
      ]
    },
    {
      "cell_type": "markdown",
      "source": [
        "10. 이터레이터 객체 사용"
      ],
      "metadata": {
        "id": "t3iu3y1fVaOx"
      }
    },
    {
      "cell_type": "code",
      "source": [
        "my_iterable = iter([1, 2, 3, '사', '오'])\n",
        "for item in my_iterable:\n",
        "    print(item)"
      ],
      "metadata": {
        "colab": {
          "base_uri": "https://localhost:8080/"
        },
        "id": "vFUO1EipVeRK",
        "outputId": "a6c06260-e343-46ea-bce8-f2a1b4988fc6"
      },
      "execution_count": null,
      "outputs": [
        {
          "output_type": "stream",
          "name": "stdout",
          "text": [
            "1\n",
            "2\n",
            "3\n",
            "사\n",
            "오\n"
          ]
        }
      ]
    },
    {
      "cell_type": "markdown",
      "source": [
        "\n",
        "\n",
        "---\n",
        "\n"
      ],
      "metadata": {
        "id": "pqTiYX2lA2vV"
      }
    },
    {
      "cell_type": "markdown",
      "source": [
        "# 📌 라이브러리 임포트 방법"
      ],
      "metadata": {
        "id": "JriaDMbPJTO3"
      }
    },
    {
      "cell_type": "markdown",
      "source": [
        "### 1. 전체 모듈 임포트 <br/>\n",
        "### <u> \"import + 라이브러리명\" </u>"
      ],
      "metadata": {
        "id": "Vnno370-HjLP"
      }
    },
    {
      "cell_type": "markdown",
      "source": [
        "라이브러리에 있는 모든 모듈을 임포트를 하고싶을 경우에는, 그냥 import 만 쓰면 됩니다."
      ],
      "metadata": {
        "id": "l1YcWKw8Hv82"
      }
    },
    {
      "cell_type": "code",
      "source": [
        "import math\n",
        "\n",
        "# math 모듈의 함수 호출\n",
        "result = math.sqrt(25)\n",
        "print(result)"
      ],
      "metadata": {
        "colab": {
          "base_uri": "https://localhost:8080/"
        },
        "id": "myaOTYtJHof5",
        "outputId": "0aa36f0b-e17c-431b-afce-7a7e0f34f71d"
      },
      "execution_count": null,
      "outputs": [
        {
          "output_type": "stream",
          "name": "stdout",
          "text": [
            "5.0\n"
          ]
        }
      ]
    },
    {
      "cell_type": "markdown",
      "source": [
        "<br/>"
      ],
      "metadata": {
        "id": "ZES8NdlXJp10"
      }
    },
    {
      "cell_type": "markdown",
      "source": [
        "### 2. 모듈의 특정 함수만 임포트 <br/>\n",
        "### <u> \"from 라이브러리명 import 임포트할특정모듈\" </u>"
      ],
      "metadata": {
        "id": "OwAgiBeaILox"
      }
    },
    {
      "cell_type": "markdown",
      "source": [
        "라이브러리의 전체 모듈을 가져오는 것이 아니라, 특정 모듈만 가져오고 싶을 경우는 다음과 같이 사용합니다."
      ],
      "metadata": {
        "id": "VaDs4KnSIyC5"
      }
    },
    {
      "cell_type": "code",
      "source": [
        "from math import sqrt\n",
        "\n",
        "# sqrt 함수 바로 호출\n",
        "result = sqrt(25)\n",
        "print(result)"
      ],
      "metadata": {
        "colab": {
          "base_uri": "https://localhost:8080/"
        },
        "id": "uHt-qilvIGlv",
        "outputId": "3965410e-51b9-4ef9-a8f7-42629539f8e8"
      },
      "execution_count": null,
      "outputs": [
        {
          "output_type": "stream",
          "name": "stdout",
          "text": [
            "5.0\n"
          ]
        }
      ]
    },
    {
      "cell_type": "markdown",
      "source": [
        "<br/>"
      ],
      "metadata": {
        "id": "M0dWWHsxJrtz"
      }
    },
    {
      "cell_type": "markdown",
      "source": [
        "### 3. 모듈을 별칭(alias)을 사용하여 임포트 <br/>\n",
        "### <u>\"import 라이브러리명 as 별칭명\"</u>"
      ],
      "metadata": {
        "id": "pEnNlN2pITPX"
      }
    },
    {
      "cell_type": "code",
      "source": [
        "import math as m\n",
        "\n",
        "# 별칭을 사용하여 모듈 함수 호출\n",
        "result = m.sqrt(25)\n",
        "print(result)"
      ],
      "metadata": {
        "colab": {
          "base_uri": "https://localhost:8080/"
        },
        "id": "xFzBgWimIZYu",
        "outputId": "a5231074-929f-4351-998f-aba4cca98153"
      },
      "execution_count": null,
      "outputs": [
        {
          "output_type": "stream",
          "name": "stdout",
          "text": [
            "5.0\n"
          ]
        }
      ]
    },
    {
      "cell_type": "markdown",
      "source": [
        "<br/>"
      ],
      "metadata": {
        "id": "g5tWvCotJvzp"
      }
    },
    {
      "cell_type": "markdown",
      "source": [
        "### 4. 여러 함수를 한 번에 임포트 <br/>\n",
        "### <u> \"from 라이브러리명 import 임포트할특정모듈1, 임포트할특정모듈2, ...\" </u>"
      ],
      "metadata": {
        "id": "OnETvm-7Id__"
      }
    },
    {
      "cell_type": "markdown",
      "source": [],
      "metadata": {
        "id": "RMnMYQf3KDqj"
      }
    },
    {
      "cell_type": "code",
      "source": [
        "from math import sqrt, sin, cos\n",
        "\n",
        "# 여러 함수 호출\n",
        "result1 = sqrt(25)\n",
        "result2 = sin(0)\n",
        "result3 = cos(0)\n",
        "print(result1, result2, result3)"
      ],
      "metadata": {
        "colab": {
          "base_uri": "https://localhost:8080/"
        },
        "id": "fqpHv9RtIlTK",
        "outputId": "4ba7e8ad-5e51-4d2c-bb28-bfb454c2a5ed"
      },
      "execution_count": null,
      "outputs": [
        {
          "output_type": "stream",
          "name": "stdout",
          "text": [
            "5.0 0.0 1.0\n"
          ]
        }
      ]
    },
    {
      "cell_type": "markdown",
      "source": [
        "<br/>"
      ],
      "metadata": {
        "id": "-v6lRDYAJwfK"
      }
    },
    {
      "cell_type": "markdown",
      "source": [
        "\n",
        "\n",
        "---\n",
        "\n"
      ],
      "metadata": {
        "id": "_smW5YmEIsqi"
      }
    },
    {
      "cell_type": "markdown",
      "source": [
        "### 1. Requests 라이브러리 <br/>\n",
        "requests 라이브러리는 HTTP 요청을 쉽게 만들고 처리하기 위한 라이브러리입니다. 웹 페이지의 데이터를 가져오거나 API와 상호 작용할 때 많이 사용됩니다."
      ],
      "metadata": {
        "id": "raAou_lWDgAf"
      }
    },
    {
      "cell_type": "code",
      "source": [
        "import numpy as np\n",
        "\n",
        "array = np.array([1, 2, 3, 4, 5])\n",
        "# 넘파이를 통해서 평균 값을 구할 수 있습니다.\n",
        "print(np.mean(array))"
      ],
      "metadata": {
        "colab": {
          "base_uri": "https://localhost:8080/"
        },
        "id": "K2jMTXxvA4rd",
        "outputId": "c845ecd9-1529-461e-af67-3916afd4d329"
      },
      "execution_count": null,
      "outputs": [
        {
          "output_type": "stream",
          "name": "stdout",
          "text": [
            "3.0\n"
          ]
        }
      ]
    },
    {
      "cell_type": "markdown",
      "source": [
        "### 2. NumPy (수치 연산) <br/>\n",
        "NumPy는 과학 및 수학 연산을 위한 강력한 라이브러리입니다. 다차원 배열과 행렬 연산을 지원하며, 데이터 분석과 머신러닝 분야에서 많이 사용됩니다."
      ],
      "metadata": {
        "id": "MFGBF9XWDmF4"
      }
    },
    {
      "cell_type": "code",
      "source": [
        "import numpy as np\n",
        "\n",
        "array = np.array([1, 2, 3, 4, 5])\n",
        "print(np.mean(array))"
      ],
      "metadata": {
        "colab": {
          "base_uri": "https://localhost:8080/"
        },
        "id": "3nY_5h4jCVOR",
        "outputId": "6e03f872-cc6a-475e-e690-44bfe30c5769"
      },
      "execution_count": null,
      "outputs": [
        {
          "output_type": "stream",
          "name": "stdout",
          "text": [
            "3.0\n"
          ]
        }
      ]
    },
    {
      "cell_type": "markdown",
      "source": [
        "### 3. Pandas (데이터 분석) <br/>\n",
        "Pandas는 데이터 조작 및 분석을 위한 라이브러리입니다. 데이터프레임이라는 자료구조를 제공하여 데이터를 효과적으로 다룰 수 있습니다."
      ],
      "metadata": {
        "id": "3w8QFEKdCUH_"
      }
    },
    {
      "cell_type": "code",
      "source": [
        "import pandas as pd\n",
        "\n",
        "data = {'Name': ['John', 'Jane', 'Bob'], 'Age': [28, 24, 22]}\n",
        "df = pd.DataFrame(data)\n",
        "print(df)"
      ],
      "metadata": {
        "colab": {
          "base_uri": "https://localhost:8080/"
        },
        "id": "H3aqyIV8D-qV",
        "outputId": "0c0688d9-ea99-410e-ff42-ab43432de680"
      },
      "execution_count": null,
      "outputs": [
        {
          "output_type": "stream",
          "name": "stdout",
          "text": [
            "   Name  Age\n",
            "0  John   28\n",
            "1  Jane   24\n",
            "2   Bob   22\n"
          ]
        }
      ]
    },
    {
      "cell_type": "markdown",
      "source": [
        "### 4. Matplotlib (시각화) <br/>\n",
        "Matplotlib은 데이터 시각화를 위한 라이브러리로, 그래프 및 차트를 생성하는 데 사용됩니다."
      ],
      "metadata": {
        "id": "BMLlFzEKEKUb"
      }
    },
    {
      "cell_type": "code",
      "source": [
        "import matplotlib.pyplot as plt\n",
        "\n",
        "x = [1, 2, 3, 4, 5]\n",
        "y = [10, 20, 25, 30, 35]\n",
        "\n",
        "plt.plot(x, y)\n",
        "plt.show()"
      ],
      "metadata": {
        "colab": {
          "base_uri": "https://localhost:8080/",
          "height": 430
        },
        "id": "vTgBAmzMEQSI",
        "outputId": "20ccf8da-961d-499d-adfa-71c14f281d6d"
      },
      "execution_count": null,
      "outputs": [
        {
          "output_type": "display_data",
          "data": {
            "text/plain": [
              "<Figure size 640x480 with 1 Axes>"
            ],
            "image/png": "[encoded data removed]"
          },
          "metadata": {}
        }
      ]
    },
    {
      "cell_type": "markdown",
      "source": [
        "### 5. Scikit-learn (머신러닝) <br/>\n",
        "Scikit-learn은 머신러닝 및 데이터 분석을 위한 툴킷으로, 다양한 머신러닝 알고리즘과 도구를 제공합니다."
      ],
      "metadata": {
        "id": "m5PA2243ESOZ"
      }
    },
    {
      "cell_type": "code",
      "source": [
        "from sklearn import datasets\n",
        "from sklearn.model_selection import train_test_split\n",
        "from sklearn.neighbors import KNeighborsClassifier\n",
        "from sklearn.metrics import accuracy_score\n",
        "\n",
        "# iris 데이터셋 로드\n",
        "iris = datasets.load_iris()\n",
        "\n",
        "# 학습 데이터와 테스트 데이터로 나누기\n",
        "X_train, X_test, y_train, y_test = train_test_split(iris.data, iris.target, test_size=0.2, random_state=42)\n",
        "\n",
        "# KNN 분류기 생성 및 학습\n",
        "knn_classifier = KNeighborsClassifier(n_neighbors=3)\n",
        "knn_classifier.fit(X_train, y_train)\n",
        "\n",
        "# 테스트 데이터를 사용하여 예측\n",
        "y_pred = knn_classifier.predict(X_test)\n",
        "\n",
        "# 정확도 평가\n",
        "accuracy = accuracy_score(y_test, y_pred)\n",
        "print(f\"모델의 정확도: {accuracy:.2f}\")"
      ],
      "metadata": {
        "colab": {
          "base_uri": "https://localhost:8080/"
        },
        "id": "6JdEobyBEiZz",
        "outputId": "48d1e609-b1a8-42e8-f6b3-85ed29745019"
      },
      "execution_count": null,
      "outputs": [
        {
          "output_type": "stream",
          "name": "stdout",
          "text": [
            "모델의 정확도: 1.00\n"
          ]
        }
      ]
    },
    {
      "cell_type": "markdown",
      "source": [
        "### 6. Beautiful Soup (웹 스크래핑) <br/>\n",
        "Beautiful Soup은 HTML 및 XML 문서를 파싱하고 원하는 정보를 추출하기 위한 라이브러리입니다. 웹 스크래핑에 자주 사용됩니다."
      ],
      "metadata": {
        "id": "DNPDUDKkEqJE"
      }
    },
    {
      "cell_type": "code",
      "source": [
        "from bs4 import BeautifulSoup\n",
        "import requests\n",
        "\n",
        "url = \"https://www.example.com(스크래핑을 위한 URL)\"\n",
        "response = requests.get(url)\n",
        "soup = BeautifulSoup(response.text, 'html.parser')"
      ],
      "metadata": {
        "id": "-ku1Z48cEyCD"
      },
      "execution_count": null,
      "outputs": []
    },
    {
      "cell_type": "markdown",
      "source": [
        "### 7. datetime <br/>\n",
        "파이썬에서 날짜와 시간을 다루기 위한 기능을 제공하는 라이브러리입니다. 이 모듈은 날짜, 시간, 날짜 및 시간을 다루기 위한 클래스와 함수를 제공하여 다양한 시나리오에서 시간 관련 작업을 수행할 수 있도록 도와줍니다."
      ],
      "metadata": {
        "id": "Wx_tDJyzE24I"
      }
    },
    {
      "cell_type": "code",
      "source": [
        "from datetime import datetime\n",
        "\n",
        "# 1) datetime 클래스:\n",
        "# datetime 클래스는 날짜와 시간을 나타내는 객체를 생성하는 데 사용됩니다.\n",
        "now = datetime.now()\n",
        "print(\"∙ datetime.now() 현재 날짜와 시간:\", now)\n",
        "\n",
        "# 2) date 클래스:\n",
        "# date 클래스는 날짜만을 나타내는 객체를 생성하는 데 사용됩니다.\n",
        "from datetime import date\n",
        "\n",
        "today = date.today()\n",
        "print(\"∙ date.today() 오늘의 날짜 :\", today)\n",
        "\n",
        "# 3) time 클래스:\n",
        "# time 클래스는 시간만을 나타내는 객체를 생성하는 데 사용됩니다.\n",
        "from datetime import time\n",
        "\n",
        "current_time = time(12, 30, 45)\n",
        "print(\"∙ time(12, 30, 45) 현재 시간 :\", current_time)\n",
        "\n",
        "# 4) timedelta 클래스:\n",
        "# timedelta 클래스는 두 날짜 또는 시간 간의 차이를 나타내는 객체를 생성하는 데 사용됩니다.\n",
        "from datetime import timedelta\n",
        "\n",
        "delta = timedelta(days=5, hours=3)\n",
        "future_date = today + delta\n",
        "print(\"∙ timedelta(days=5, hours=3) 5일 3시간 후의 날짜 :\", future_date)\n",
        "\n",
        "# 5) 날짜 및 시간 형식 지정자:\n",
        "# strftime 메서드를 사용하여 날짜 및 시간을 원하는 형식으로 문자열로 변환할 수 있습니다.\n",
        "formatted_date = today.strftime(\"%Y-%m-%d\")\n",
        "print(\"∙ today.strftime(\\\"%Y-%m-%d\\\") 형식화된 날짜 :\", formatted_date)\n",
        "\n",
        "# 6) 날짜 및 시간 문자열 파싱:\n",
        "# strptime 함수를 사용하여 문자열에서 날짜 및 시간을 추출할 수 있습니다.\n",
        "date_string = \"2022-01-01\"\n",
        "parsed_date = datetime.strptime(date_string, \"%Y-%m-%d\")\n",
        "print(\"∙ datetime.strptime(date_string, \\\"%Y-%m-%d\\\") 파싱된 날짜 :\", parsed_date)"
      ],
      "metadata": {
        "colab": {
          "base_uri": "https://localhost:8080/"
        },
        "id": "ogf2cFVeFD_V",
        "outputId": "d0e1c978-48ae-4372-c718-7e1df6bb06bd"
      },
      "execution_count": null,
      "outputs": [
        {
          "output_type": "stream",
          "name": "stdout",
          "text": [
            "∙ datetime.now() 현재 날짜와 시간: 2024-01-11 06:26:52.269762\n",
            "∙ date.today() 오늘의 날짜 : 2024-01-11\n",
            "∙ time(12, 30, 45) 현재 시간 : 12:30:45\n",
            "∙ timedelta(days=5, hours=3) 5일 3시간 후의 날짜 : 2024-01-16\n",
            "∙ today.strftime(\"%Y-%m-%d\") 형식화된 날짜 : 2024-01-11\n",
            "∙ datetime.strptime(date_string, \"%Y-%m-%d\") 파싱된 날짜 : 2022-01-01 00:00:00\n"
          ]
        }
      ]
    },
    {
      "cell_type": "markdown",
      "source": [
        "### 8. json"
      ],
      "metadata": {
        "id": "5xn8FoFvF1bo"
      }
    },
    {
      "cell_type": "markdown",
      "source": [
        "json 라이브러리는 파이썬에서 JSON(JavaScript Object Notation) 형식의 데이터를 다루기 위한 라이브러리입니다. JSON은 데이터를 간결하게 표현하고 전송하는 데 사용되는 일반적인 데이터 형식 중 하나입니다."
      ],
      "metadata": {
        "id": "SeAwGf0MGv7M"
      }
    },
    {
      "cell_type": "code",
      "source": [
        "import json\n",
        "\n",
        "# 1) json.loads()\n",
        "# : JSON 형식의 문자열을 파이썬 데이터 구조(보통 딕셔너리)로 변환합니다.\n",
        "json_string = '{\"name\": \"Jane\", \"age\": 25, \"city\": \"London\"}'\n",
        "python_object = json.loads(json_string)\n",
        "print(f\"∙json.loads는 JSON 형식의 문자열을 파이썬 데이터 구조로 변환합니다. : {python_object}\")\n",
        "print()\n",
        "\n",
        "# 2) json.dumps()\n",
        "# : 파이썬 데이터 구조(보통 딕셔너리)에서 JSON 문자열로 변환합니다.\n",
        "data = {'name': 'John', 'age': 30, 'city': 'New York'}\n",
        "json_string = json.dumps(data)\n",
        "print(f\"∙json.dumps는 파이썬 데이터 구조를 JSON 문자열로 변환 : {json_string}\")\n",
        "print()\n",
        "\n",
        "# 3) json.dump() - 파이썬 데이터 구조를 JSON 형식의 파일로 저장\n",
        "# : 파이썬 데이터 구조(보통 딕셔너리)를 JSON 형식의 파일로 저장합니다.\n",
        "with open('data.json', 'w') as json_file:\n",
        "    json.dump(data, json_file)\n",
        "    print(f\"∙ with open과 함께 json.dump 사용하여 파이썬 데이터 구조를 JSON 형식의 파일로 저장합니다.\")\n",
        "    print()\n",
        "\n",
        "# 4) json.load() - JSON 파일을 파이썬 객체로 로드\n",
        "# : JSON 형식의 파일을 읽어 파이썬 데이터 구조(보통 딕셔너리)로 로드합니다.\n",
        "with open('data.json', 'r') as json_file:\n",
        "    loaded_data = json.load(json_file)\n",
        "    print(f\"∙ with open과 함께 json.load를 사용하여 JSON 파일을 파이썬 데이터 구조로 로드합니다. : {python_object}\")\n",
        "    print()\n",
        "\n",
        "# * json.dump(), json.dumps(), json.load(), json.loads()와 같은 메소드에 사용가능\n",
        "# * indent 옵션 : JSON 데이터의 읽기 쉬운 형태로 들여쓰기를 적용합니다.\n",
        "# * sort_keys: 딕셔너리의 키를 정렬합니다.\n",
        "formatted_json = json.dumps(data, indent=2, sort_keys=True)\n",
        "print(f\"∙json.dumps에 indent를 넣으면 예쁘게 보여집니다. : {formatted_json}\")"
      ],
      "metadata": {
        "colab": {
          "base_uri": "https://localhost:8080/"
        },
        "id": "OvtjBpiCF7mq",
        "outputId": "110c4e0f-33e0-4bb4-cc41-166bbe28c791"
      },
      "execution_count": null,
      "outputs": [
        {
          "output_type": "stream",
          "name": "stdout",
          "text": [
            "∙json.loads는 JSON 형식의 문자열을 파이썬 데이터 구조로 변환합니다. : {'name': 'Jane', 'age': 25, 'city': 'London'}\n",
            "\n",
            "∙json.dumps는 파이썬 데이터 구조를 JSON 문자열로 변환 : {\"name\": \"John\", \"age\": 30, \"city\": \"New York\"}\n",
            "\n",
            "∙ with open과 함께 json.dump 사용하여 파이썬 데이터 구조를 JSON 형식의 파일로 저장합니다.\n",
            "\n",
            "∙ with open과 함께 json.load를 사용하여 JSON 파일을 파이썬 데이터 구조로 로드합니다. : {'name': 'Jane', 'age': 25, 'city': 'London'}\n",
            "\n",
            "∙json.dumps에 indent를 넣으면 예쁘게 보여집니다. : {\n",
            "  \"age\": 30,\n",
            "  \"city\": \"New York\",\n",
            "  \"name\": \"John\"\n",
            "}\n",
            "\n"
          ]
        }
      ]
    }
  ]
}